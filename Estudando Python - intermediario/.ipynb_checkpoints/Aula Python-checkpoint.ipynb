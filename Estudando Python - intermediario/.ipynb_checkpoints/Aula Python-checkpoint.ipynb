{
 "cells": [
  {
   "cell_type": "code",
   "execution_count": 13,
   "id": "2300ba37-f54d-4e0a-a3cd-829c21fb2725",
   "metadata": {},
   "outputs": [],
   "source": [
    "nomes = ['Rafael','Maria','Ana']\n",
    "idades = [10,20,15]\n",
    "\n",
    "sexo = ('M','F','O')\n",
    "\n",
    "cadastro = {'nomes': nomes,\n",
    "            'idades': idades,\n",
    "            'cidade':['A','B','C']}"
   ]
  },
  {
   "cell_type": "code",
   "execution_count": 14,
   "id": "83bd8dfd-9525-4ab2-a0b7-24f090ceb31d",
   "metadata": {},
   "outputs": [
    {
     "name": "stdout",
     "output_type": "stream",
     "text": [
      "Rafael\n",
      "Maria\n",
      "Ana\n"
     ]
    }
   ],
   "source": [
    "for nome in nomes:\n",
    "    print(nome)"
   ]
  }
 ],
 "metadata": {
  "kernelspec": {
   "display_name": "Python 3 (ipykernel)",
   "language": "python",
   "name": "python3"
  },
  "language_info": {
   "codemirror_mode": {
    "name": "ipython",
    "version": 3
   },
   "file_extension": ".py",
   "mimetype": "text/x-python",
   "name": "python",
   "nbconvert_exporter": "python",
   "pygments_lexer": "ipython3",
   "version": "3.10.8"
  }
 },
 "nbformat": 4,
 "nbformat_minor": 5
}
