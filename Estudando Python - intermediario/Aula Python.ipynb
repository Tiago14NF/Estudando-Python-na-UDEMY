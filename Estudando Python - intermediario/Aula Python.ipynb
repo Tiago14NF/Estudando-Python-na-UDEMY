{
 "cells": [
  {
   "cell_type": "code",
   "execution_count": 11,
   "id": "2300ba37-f54d-4e0a-a3cd-829c21fb2725",
   "metadata": {},
   "outputs": [],
   "source": [
    "nomes = ['Rafael','Maria','Ana',]\n",
    "idades = [10,20,15]\n",
    "\n",
    "sexo = ('M','F','O')\n",
    "\n",
    "cadastro = {'nomes': nomes,\n",
    "            'idades': idades,\n",
    "            'cidade':['A','B','C']}"
   ]
  },
  {
   "cell_type": "code",
   "execution_count": 12,
   "id": "83bd8dfd-9525-4ab2-a0b7-24f090ceb31d",
   "metadata": {},
   "outputs": [
    {
     "name": "stdout",
     "output_type": "stream",
     "text": [
      "Rafael\n",
      "Maria\n",
      "Ana\n"
     ]
    }
   ],
   "source": [
    "for nome in nomes:\n",
    "    print(nome)"
   ]
  },
  {
   "cell_type": "code",
   "execution_count": 13,
   "id": "024a1e2f-5639-4191-ba20-8f125df5de2c",
   "metadata": {},
   "outputs": [
    {
     "name": "stdout",
     "output_type": "stream",
     "text": [
      "10\n",
      "20\n"
     ]
    }
   ],
   "source": [
    "for idade in idades:\n",
    "    if idade%2==0: print(idade)"
   ]
  },
  {
   "cell_type": "code",
   "execution_count": 16,
   "id": "b00a2c17-06e9-475d-9b55-31753f51d051",
   "metadata": {},
   "outputs": [
    {
     "name": "stdout",
     "output_type": "stream",
     "text": [
      "0\n",
      "1\n",
      "2\n",
      "3\n",
      "4\n",
      "5\n",
      "6\n",
      "7\n",
      "8\n",
      "9\n"
     ]
    }
   ],
   "source": [
    "for i in range(0,10):\n",
    "    print(i)"
   ]
  },
  {
   "cell_type": "code",
   "execution_count": 17,
   "id": "1788a033-8b41-407d-8f77-b0a6df7046cf",
   "metadata": {},
   "outputs": [
    {
     "name": "stdout",
     "output_type": "stream",
     "text": [
      "10\n"
     ]
    }
   ],
   "source": [
    "i = 0\n",
    "idade = idades[i]\n",
    "while idade <= 10:\n",
    "    print(idade)\n",
    "    i += 1\n",
    "    idade = idades[i]"
   ]
  },
  {
   "cell_type": "code",
   "execution_count": null,
   "id": "46ad5be3-098a-4512-8cd8-fd3c9643a1b5",
   "metadata": {},
   "outputs": [],
   "source": []
  }
 ],
 "metadata": {
  "kernelspec": {
   "display_name": "Python 3.11.0 64-bit",
   "language": "python",
   "name": "python3"
  },
  "language_info": {
   "codemirror_mode": {
    "name": "ipython",
    "version": 3
   },
   "file_extension": ".py",
   "mimetype": "text/x-python",
   "name": "python",
   "nbconvert_exporter": "python",
   "pygments_lexer": "ipython3",
   "version": "3.11.0"
  },
  "vscode": {
   "interpreter": {
    "hash": "b5b2de286a3b9fdabcd4282baccd5fb27b3bb63f71da56a8a357c0fdb99907af"
   }
  }
 },
 "nbformat": 4,
 "nbformat_minor": 5
}
